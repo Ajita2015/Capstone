{
 "cells": [
  {
   "cell_type": "markdown",
   "metadata": {},
   "source": [
    "# Automatic Locator Change Prediction"
   ]
  },
  {
   "cell_type": "code",
   "execution_count": 1,
   "metadata": {},
   "outputs": [],
   "source": [
    "#Import required libraries\n",
    "import pandas as pd\n",
    "import numpy as np\n",
    "from sklearn.linear_model import LogisticRegression\n",
    "from sklearn.naive_bayes import GaussianNB\n",
    "from sklearn.neighbors import KNeighborsClassifier\n",
    "from sklearn.ensemble import RandomForestClassifier\n",
    "from sklearn.metrics import accuracy_score, classification_report, roc_auc_score, roc_curve\n",
    "from sklearn.model_selection import GridSearchCV, train_test_split\n",
    "import seaborn as sns\n",
    "from matplotlib import pyplot as plt\n",
    "import warnings\n",
    "warnings.filterwarnings('ignore')"
   ]
  },
  {
   "cell_type": "code",
   "execution_count": 2,
   "metadata": {},
   "outputs": [],
   "source": [
    "from IPython.core.interactiveshell import InteractiveShell \n",
    "InteractiveShell.ast_node_interactivity = \"all\""
   ]
  },
  {
   "cell_type": "code",
   "execution_count": 3,
   "metadata": {},
   "outputs": [],
   "source": [
    "df = pd.read_csv(\"C:\\\\Users\\\\ajita.patel\\\\Downloads\\\\Autohealers_Xpath_Locators_attributes_Training_Data (1).csv\")"
   ]
  },
  {
   "cell_type": "code",
   "execution_count": 4,
   "metadata": {},
   "outputs": [
    {
     "data": {
      "text/html": [
       "<div>\n",
       "<style scoped>\n",
       "    .dataframe tbody tr th:only-of-type {\n",
       "        vertical-align: middle;\n",
       "    }\n",
       "\n",
       "    .dataframe tbody tr th {\n",
       "        vertical-align: top;\n",
       "    }\n",
       "\n",
       "    .dataframe thead th {\n",
       "        text-align: right;\n",
       "    }\n",
       "</style>\n",
       "<table border=\"1\" class=\"dataframe\">\n",
       "  <thead>\n",
       "    <tr style=\"text-align: right;\">\n",
       "      <th></th>\n",
       "      <th>Tag</th>\n",
       "      <th>Type</th>\n",
       "      <th>Placeholder</th>\n",
       "      <th>ID</th>\n",
       "      <th>Value</th>\n",
       "      <th>Class</th>\n",
       "      <th>Classification</th>\n",
       "    </tr>\n",
       "  </thead>\n",
       "  <tbody>\n",
       "    <tr>\n",
       "      <td>0</td>\n",
       "      <td>input</td>\n",
       "      <td>text</td>\n",
       "      <td>Enter User Name</td>\n",
       "      <td>txtUserName</td>\n",
       "      <td>username</td>\n",
       "      <td>login-control-css</td>\n",
       "      <td>1</td>\n",
       "    </tr>\n",
       "    <tr>\n",
       "      <td>1</td>\n",
       "      <td>input</td>\n",
       "      <td>password</td>\n",
       "      <td>Enter the Password</td>\n",
       "      <td>txtPwd</td>\n",
       "      <td>password</td>\n",
       "      <td>login-control-css</td>\n",
       "      <td>1</td>\n",
       "    </tr>\n",
       "    <tr>\n",
       "      <td>2</td>\n",
       "      <td>input</td>\n",
       "      <td>submit</td>\n",
       "      <td>a-button-input</td>\n",
       "      <td>btnSubmit</td>\n",
       "      <td>Submit</td>\n",
       "      <td>form-control</td>\n",
       "      <td>1</td>\n",
       "    </tr>\n",
       "    <tr>\n",
       "      <td>3</td>\n",
       "      <td>input</td>\n",
       "      <td>button</td>\n",
       "      <td>a-button-input</td>\n",
       "      <td>btnCancel</td>\n",
       "      <td>Cancel</td>\n",
       "      <td>form-control</td>\n",
       "      <td>1</td>\n",
       "    </tr>\n",
       "    <tr>\n",
       "      <td>4</td>\n",
       "      <td>input</td>\n",
       "      <td>text</td>\n",
       "      <td>UserName</td>\n",
       "      <td>login</td>\n",
       "      <td>log-in</td>\n",
       "      <td>form-control</td>\n",
       "      <td>1</td>\n",
       "    </tr>\n",
       "  </tbody>\n",
       "</table>\n",
       "</div>"
      ],
      "text/plain": [
       "     Tag      Type         Placeholder           ID     Value  \\\n",
       "0  input      text     Enter User Name  txtUserName  username   \n",
       "1  input  password  Enter the Password       txtPwd  password   \n",
       "2  input    submit      a-button-input    btnSubmit    Submit   \n",
       "3  input    button      a-button-input    btnCancel    Cancel   \n",
       "4  input      text            UserName        login    log-in   \n",
       "\n",
       "               Class  Classification  \n",
       "0  login-control-css               1  \n",
       "1  login-control-css               1  \n",
       "2       form-control               1  \n",
       "3       form-control               1  \n",
       "4       form-control               1  "
      ]
     },
     "execution_count": 4,
     "metadata": {},
     "output_type": "execute_result"
    }
   ],
   "source": [
    "df.head(5)"
   ]
  },
  {
   "cell_type": "markdown",
   "metadata": {},
   "source": [
    "# Data Understanding"
   ]
  },
  {
   "cell_type": "code",
   "execution_count": 5,
   "metadata": {},
   "outputs": [
    {
     "name": "stdout",
     "output_type": "stream",
     "text": [
      "<class 'pandas.core.frame.DataFrame'>\n",
      "RangeIndex: 1140 entries, 0 to 1139\n",
      "Data columns (total 7 columns):\n",
      "Tag               1140 non-null object\n",
      "Type              1021 non-null object\n",
      "Placeholder       931 non-null object\n",
      "ID                769 non-null object\n",
      "Value             797 non-null object\n",
      "Class             708 non-null object\n",
      "Classification    1140 non-null int64\n",
      "dtypes: int64(1), object(6)\n",
      "memory usage: 62.5+ KB\n"
     ]
    },
    {
     "data": {
      "text/plain": [
       "(1140, 7)"
      ]
     },
     "execution_count": 5,
     "metadata": {},
     "output_type": "execute_result"
    }
   ],
   "source": [
    "df.info()\n",
    "df.shape"
   ]
  },
  {
   "cell_type": "code",
   "execution_count": 6,
   "metadata": {},
   "outputs": [
    {
     "data": {
      "text/plain": [
       "Index(['Tag', 'Type', 'Placeholder', 'ID', 'Value', 'Class', 'Classification'], dtype='object')"
      ]
     },
     "execution_count": 6,
     "metadata": {},
     "output_type": "execute_result"
    }
   ],
   "source": [
    "df.columns"
   ]
  },
  {
   "cell_type": "code",
   "execution_count": 7,
   "metadata": {},
   "outputs": [
    {
     "name": "stdout",
     "output_type": "stream",
     "text": [
      "<class 'pandas.core.frame.DataFrame'>\n",
      "RangeIndex: 1140 entries, 0 to 1139\n",
      "Data columns (total 7 columns):\n",
      "Tag               1140 non-null object\n",
      "Type              1021 non-null object\n",
      "Placeholder       931 non-null object\n",
      "ID                769 non-null object\n",
      "Value             797 non-null object\n",
      "Class             708 non-null object\n",
      "Classification    1140 non-null int64\n",
      "dtypes: int64(1), object(6)\n",
      "memory usage: 62.5+ KB\n"
     ]
    }
   ],
   "source": [
    "df.info()"
   ]
  },
  {
   "cell_type": "code",
   "execution_count": 8,
   "metadata": {},
   "outputs": [
    {
     "data": {
      "text/plain": [
       "1    610\n",
       "0    530\n",
       "Name: Classification, dtype: int64"
      ]
     },
     "execution_count": 8,
     "metadata": {},
     "output_type": "execute_result"
    },
    {
     "data": {
      "text/plain": [
       "<matplotlib.axes._subplots.AxesSubplot at 0x1a6a22eddc8>"
      ]
     },
     "execution_count": 8,
     "metadata": {},
     "output_type": "execute_result"
    },
    {
     "data": {
      "image/png": "[encoded data removed]",
      "text/plain": [
       "<Figure size 432x288 with 1 Axes>"
      ]
     },
     "metadata": {
      "needs_background": "light"
     },
     "output_type": "display_data"
    }
   ],
   "source": [
    "df['Classification'].value_counts()\n",
    "sns.countplot(df.Classification)"
   ]
  },
  {
   "cell_type": "code",
   "execution_count": 9,
   "metadata": {},
   "outputs": [
    {
     "data": {
      "text/plain": [
       "input     932\n",
       "button    177\n",
       "a          20\n",
       "div        11\n",
       "Name: Tag, dtype: int64"
      ]
     },
     "execution_count": 9,
     "metadata": {},
     "output_type": "execute_result"
    },
    {
     "data": {
      "text/plain": [
       "<matplotlib.axes._subplots.AxesSubplot at 0x1a6a260d508>"
      ]
     },
     "execution_count": 9,
     "metadata": {},
     "output_type": "execute_result"
    },
    {
     "data": {
      "image/png": "[encoded data removed]",
      "text/plain": [
       "<Figure size 1440x720 with 1 Axes>"
      ]
     },
     "metadata": {
      "needs_background": "light"
     },
     "output_type": "display_data"
    }
   ],
   "source": [
    "df['Tag'].value_counts()\n",
    "fig = plt.figure(figsize = (20,10))\n",
    "sns.countplot(df.Type)"
   ]
  },
  {
   "cell_type": "code",
   "execution_count": 10,
   "metadata": {},
   "outputs": [
    {
     "data": {
      "text/plain": [
       "text        460\n",
       "submit      242\n",
       "password    225\n",
       "email        39\n",
       "button       25\n",
       "search       19\n",
       "xyz          11\n",
       "Name: Type, dtype: int64"
      ]
     },
     "execution_count": 10,
     "metadata": {},
     "output_type": "execute_result"
    },
    {
     "data": {
      "text/plain": [
       "<matplotlib.axes._subplots.AxesSubplot at 0x1a6a2663d08>"
      ]
     },
     "execution_count": 10,
     "metadata": {},
     "output_type": "execute_result"
    },
    {
     "data": {
      "image/png": "[encoded data removed]",
      "text/plain": [
       "<Figure size 1440x720 with 1 Axes>"
      ]
     },
     "metadata": {
      "needs_background": "light"
     },
     "output_type": "display_data"
    }
   ],
   "source": [
    "df['Type'].value_counts()\n",
    "fig = plt.figure(figsize = (20,10))\n",
    "sns.countplot(df.Type)"
   ]
  },
  {
   "cell_type": "code",
   "execution_count": 11,
   "metadata": {},
   "outputs": [
    {
     "data": {
      "text/plain": [
       "a-button-input                                              97\n",
       "_16qL6K _366U7Q                                             95\n",
       "inputtext _58mg _5dba _2ph-                                 81\n",
       "_2zrpKA                                                     78\n",
       "inputtext                                                   40\n",
       "a-input-text a-span12 auth-autofocus auth-required-field    38\n",
       "booking large                                               22\n",
       "action-button M12A                                          22\n",
       "_42ft _4jy0 _52e0 _4jy6 _4jy1 selected _51sy                22\n",
       "fl button                                                   22\n",
       "_3y9b  _1wLi _2vdF                                          21\n",
       "User                                                        20\n",
       "_2zrpKA _3v41xv                                             20\n",
       "UserName                                                    20\n",
       "IP signInInp b-email                                        19\n",
       "a-input-text hide                                           19\n",
       "Name                                                        19\n",
       "uiButton                                                    19\n",
       "_6j mvm _6wk _6wl _58mi _3ma _6o _6v                        19\n",
       "a-input-text a-span12 auth-require-email-validaton          19\n",
       "Type User Name                                              17\n",
       "Name of the User                                            17\n",
       "Enter User Name                                             17\n",
       "Enter Secret Phrase                                         16\n",
       "Enter Password                                              16\n",
       "Pwd                                                         15\n",
       "Input Name                                                  15\n",
       "Secret Code                                                 15\n",
       "Password                                                    15\n",
       "Secret Phrase                                               15\n",
       "Enter Pwd                                                   15\n",
       "Enter Login Name                                            15\n",
       "Enter Name                                                  15\n",
       "Input User Name                                             15\n",
       "Enter the Password                                           1\n",
       "Name: Placeholder, dtype: int64"
      ]
     },
     "execution_count": 11,
     "metadata": {},
     "output_type": "execute_result"
    },
    {
     "data": {
      "text/plain": [
       "<matplotlib.axes._subplots.AxesSubplot at 0x1a6a2711dc8>"
      ]
     },
     "execution_count": 11,
     "metadata": {},
     "output_type": "execute_result"
    },
    {
     "data": {
      "image/png": "[encoded data removed]",
      "text/plain": [
       "<Figure size 1440x720 with 1 Axes>"
      ]
     },
     "metadata": {
      "needs_background": "light"
     },
     "output_type": "display_data"
    }
   ],
   "source": [
    "df['Placeholder'].value_counts()\n",
    "fig = plt.figure(figsize = (20,10))\n",
    "sns.countplot(df.Placeholder)"
   ]
  },
  {
   "cell_type": "code",
   "execution_count": 12,
   "metadata": {},
   "outputs": [
    {
     "data": {
      "text/plain": [
       "text        460\n",
       "submit      242\n",
       "password    225\n",
       "email        39\n",
       "button       25\n",
       "search       19\n",
       "xyz          11\n",
       "Name: Type, dtype: int64"
      ]
     },
     "execution_count": 12,
     "metadata": {},
     "output_type": "execute_result"
    },
    {
     "data": {
      "text/plain": [
       "<matplotlib.axes._subplots.AxesSubplot at 0x1a6a31ac808>"
      ]
     },
     "execution_count": 12,
     "metadata": {},
     "output_type": "execute_result"
    },
    {
     "data": {
      "image/png": "[encoded data removed]",
      "text/plain": [
       "<Figure size 1440x720 with 1 Axes>"
      ]
     },
     "metadata": {
      "needs_background": "light"
     },
     "output_type": "display_data"
    }
   ],
   "source": [
    "df['Type'].value_counts()\n",
    "fig = plt.figure(figsize = (20,10))\n",
    "sns.countplot(data = df, x = 'Type')"
   ]
  },
  {
   "cell_type": "code",
   "execution_count": 13,
   "metadata": {},
   "outputs": [
    {
     "data": {
      "text/plain": [
       "log-in                                     158\n",
       "password                                    63\n",
       "Enter here                                  38\n",
       "Sign-In                                     37\n",
       "websubmit                                   36\n",
       "submit                                      31\n",
       "Submit                                      23\n",
       "login                                       20\n",
       "reg_email__                                 20\n",
       "pass                                        20\n",
       "reg_passwd__                                20\n",
       "lastname                                    20\n",
       "firstname                                   19\n",
       "OK                                          19\n",
       "pincode                                     18\n",
       "secondaryLoginClaim                         18\n",
       "did_submit                                  18\n",
       "address-ui-widgets-enterAddressFullName     18\n",
       "name                                        18\n",
       "customerName                                18\n",
       "email                                       18\n",
       "proceedToCheckout                           18\n",
       "firstName                                   18\n",
       "city                                        18\n",
       "submit.addToCart                            18\n",
       "landmark                                    18\n",
       "username                                    12\n",
       "Cancel                                      12\n",
       "Login                                       11\n",
       "addressLine8                                 1\n",
       "addressLine13                                1\n",
       "addressLine11                                1\n",
       "addressLine19                                1\n",
       "addressLine25                                1\n",
       "addressLine14                                1\n",
       "addressLine16                                1\n",
       "addressLine22                                1\n",
       "addressLine20                                1\n",
       "addressLine9                                 1\n",
       "addressLine17                                1\n",
       "LOGIN                                        1\n",
       "Sing-In                                      1\n",
       "addressLine10                                1\n",
       "btnsign                                      1\n",
       "addressLine24                                1\n",
       "addressLine21                                1\n",
       "addressLine12                                1\n",
       "addressLine18                                1\n",
       "ok                                           1\n",
       "addressLine15                                1\n",
       "addressLine23                                1\n",
       "Name: Value, dtype: int64"
      ]
     },
     "execution_count": 13,
     "metadata": {},
     "output_type": "execute_result"
    },
    {
     "data": {
      "text/plain": [
       "<matplotlib.axes._subplots.AxesSubplot at 0x1a6a2dd2188>"
      ]
     },
     "execution_count": 13,
     "metadata": {},
     "output_type": "execute_result"
    },
    {
     "data": {
      "image/png": "[encoded data removed]",
      "text/plain": [
       "<Figure size 1440x720 with 1 Axes>"
      ]
     },
     "metadata": {
      "needs_background": "light"
     },
     "output_type": "display_data"
    }
   ],
   "source": [
    "df['Value'].value_counts()\n",
    "fig = plt.figure(figsize = (20,10))\n",
    "sns.countplot(df.Value)"
   ]
  },
  {
   "cell_type": "code",
   "execution_count": 14,
   "metadata": {},
   "outputs": [
    {
     "data": {
      "text/plain": [
       "form-control                               133\n",
       "login-control-css                           43\n",
       "pwd-control-style                           42\n",
       "login-field-css                             25\n",
       "ap-credential-autofill-hint                 22\n",
       "doSignin                                    22\n",
       "ap_customer_name                            22\n",
       "address-ui-widgets-enterAddressFullName     22\n",
       "email-mobile                                22\n",
       "ap_password                                 22\n",
       "createAccountSubmit                         22\n",
       "ap_email                                    22\n",
       "continue                                    22\n",
       "signInSubmit                                22\n",
       "copyReferCode                               22\n",
       "search_btn                                  22\n",
       "loginbutton                                 20\n",
       "email                                       20\n",
       "SearchBtn                                   20\n",
       "pass                                        20\n",
       "login-button-style                          16\n",
       "btn btn-primary btn-lg pull-right           16\n",
       "login-control-style                         12\n",
       "login-field-control-style                   12\n",
       "login-text-style                            12\n",
       "login-text-field-style                      12\n",
       "login-text-css                              12\n",
       "login-text-control-style                    10\n",
       "u_0_16                                       1\n",
       "u_0_23                                       1\n",
       "u_0_31                                       1\n",
       "u_0_24                                       1\n",
       "u_0_21                                       1\n",
       "u_0_20                                       1\n",
       "u_0_18                                       1\n",
       "u_0_27                                       1\n",
       "u_0_30                                       1\n",
       "u_0_26                                       1\n",
       "u_0_19                                       1\n",
       "u_0_28                                       1\n",
       "u_0_25                                       1\n",
       "u_0_29                                       1\n",
       "u_0_15                                       1\n",
       "u_0_17                                       1\n",
       "u_0_13                                       1\n",
       "u_0_22                                       1\n",
       "u_0_14                                       1\n",
       "Name: Class, dtype: int64"
      ]
     },
     "execution_count": 14,
     "metadata": {},
     "output_type": "execute_result"
    },
    {
     "data": {
      "text/plain": [
       "<matplotlib.axes._subplots.AxesSubplot at 0x1a6a390dd88>"
      ]
     },
     "execution_count": 14,
     "metadata": {},
     "output_type": "execute_result"
    },
    {
     "data": {
      "image/png": "[encoded data removed]",
      "text/plain": [
       "<Figure size 1440x720 with 1 Axes>"
      ]
     },
     "metadata": {
      "needs_background": "light"
     },
     "output_type": "display_data"
    }
   ],
   "source": [
    "df['Class'].value_counts()\n",
    "fig = plt.figure(figsize = (20,10))\n",
    "sns.countplot(df.Class)"
   ]
  },
  {
   "cell_type": "code",
   "execution_count": 15,
   "metadata": {},
   "outputs": [
    {
     "data": {
      "text/html": [
       "<div>\n",
       "<style scoped>\n",
       "    .dataframe tbody tr th:only-of-type {\n",
       "        vertical-align: middle;\n",
       "    }\n",
       "\n",
       "    .dataframe tbody tr th {\n",
       "        vertical-align: top;\n",
       "    }\n",
       "\n",
       "    .dataframe thead th {\n",
       "        text-align: right;\n",
       "    }\n",
       "</style>\n",
       "<table border=\"1\" class=\"dataframe\">\n",
       "  <thead>\n",
       "    <tr style=\"text-align: right;\">\n",
       "      <th>Classification</th>\n",
       "      <th>0</th>\n",
       "      <th>1</th>\n",
       "    </tr>\n",
       "    <tr>\n",
       "      <th>Tag</th>\n",
       "      <th></th>\n",
       "      <th></th>\n",
       "    </tr>\n",
       "  </thead>\n",
       "  <tbody>\n",
       "    <tr>\n",
       "      <td>a</td>\n",
       "      <td>5</td>\n",
       "      <td>15</td>\n",
       "    </tr>\n",
       "    <tr>\n",
       "      <td>button</td>\n",
       "      <td>68</td>\n",
       "      <td>109</td>\n",
       "    </tr>\n",
       "    <tr>\n",
       "      <td>div</td>\n",
       "      <td>11</td>\n",
       "      <td>0</td>\n",
       "    </tr>\n",
       "    <tr>\n",
       "      <td>input</td>\n",
       "      <td>446</td>\n",
       "      <td>486</td>\n",
       "    </tr>\n",
       "  </tbody>\n",
       "</table>\n",
       "</div>"
      ],
      "text/plain": [
       "Classification    0    1\n",
       "Tag                     \n",
       "a                 5   15\n",
       "button           68  109\n",
       "div              11    0\n",
       "input           446  486"
      ]
     },
     "execution_count": 15,
     "metadata": {},
     "output_type": "execute_result"
    },
    {
     "data": {
      "text/html": [
       "<div>\n",
       "<style scoped>\n",
       "    .dataframe tbody tr th:only-of-type {\n",
       "        vertical-align: middle;\n",
       "    }\n",
       "\n",
       "    .dataframe tbody tr th {\n",
       "        vertical-align: top;\n",
       "    }\n",
       "\n",
       "    .dataframe thead th {\n",
       "        text-align: right;\n",
       "    }\n",
       "</style>\n",
       "<table border=\"1\" class=\"dataframe\">\n",
       "  <thead>\n",
       "    <tr style=\"text-align: right;\">\n",
       "      <th>Classification</th>\n",
       "      <th>0</th>\n",
       "      <th>1</th>\n",
       "    </tr>\n",
       "    <tr>\n",
       "      <th>Type</th>\n",
       "      <th></th>\n",
       "      <th></th>\n",
       "    </tr>\n",
       "  </thead>\n",
       "  <tbody>\n",
       "    <tr>\n",
       "      <td>button</td>\n",
       "      <td>0</td>\n",
       "      <td>25</td>\n",
       "    </tr>\n",
       "    <tr>\n",
       "      <td>email</td>\n",
       "      <td>34</td>\n",
       "      <td>5</td>\n",
       "    </tr>\n",
       "    <tr>\n",
       "      <td>password</td>\n",
       "      <td>28</td>\n",
       "      <td>197</td>\n",
       "    </tr>\n",
       "    <tr>\n",
       "      <td>search</td>\n",
       "      <td>19</td>\n",
       "      <td>0</td>\n",
       "    </tr>\n",
       "    <tr>\n",
       "      <td>submit</td>\n",
       "      <td>74</td>\n",
       "      <td>168</td>\n",
       "    </tr>\n",
       "    <tr>\n",
       "      <td>text</td>\n",
       "      <td>295</td>\n",
       "      <td>165</td>\n",
       "    </tr>\n",
       "    <tr>\n",
       "      <td>xyz</td>\n",
       "      <td>11</td>\n",
       "      <td>0</td>\n",
       "    </tr>\n",
       "  </tbody>\n",
       "</table>\n",
       "</div>"
      ],
      "text/plain": [
       "Classification    0    1\n",
       "Type                    \n",
       "button            0   25\n",
       "email            34    5\n",
       "password         28  197\n",
       "search           19    0\n",
       "submit           74  168\n",
       "text            295  165\n",
       "xyz              11    0"
      ]
     },
     "execution_count": 15,
     "metadata": {},
     "output_type": "execute_result"
    }
   ],
   "source": [
    "#pd.crosstab(df['Tag'],df['Classification']).T.style.background_gradient(cmap='summer_r')\n",
    "#pd.crosstab(df['Type'],df['Classification']).T.style.background_gradient(cmap='summer_r')\n",
    "\n",
    "pd.crosstab(df['Tag'],df['Classification'])\n",
    "pd.crosstab(df['Type'],df['Classification'])\n",
    "\n",
    "#pd.crosstab(df['ID'],df['Classification'])\n",
    "#pd.crosstab(df['Placeholder'],df['Classification'])"
   ]
  },
  {
   "cell_type": "code",
   "execution_count": 16,
   "metadata": {},
   "outputs": [
    {
     "data": {
      "text/plain": [
       "Tag                 0\n",
       "Type              119\n",
       "Placeholder       209\n",
       "ID                371\n",
       "Value             343\n",
       "Class             432\n",
       "Classification      0\n",
       "dtype: int64"
      ]
     },
     "execution_count": 16,
     "metadata": {},
     "output_type": "execute_result"
    }
   ],
   "source": [
    "import missingno as msno\n",
    "#msno.bar(df1,figsize = (10, 5))\n",
    "df.isnull().sum()\n",
    "\n"
   ]
  },
  {
   "cell_type": "code",
   "execution_count": 17,
   "metadata": {},
   "outputs": [],
   "source": [
    "#msno.bar(df, color=\"green\", log=True, figsize=(15,10))"
   ]
  },
  {
   "cell_type": "markdown",
   "metadata": {},
   "source": [
    "# Data Preparation"
   ]
  },
  {
   "cell_type": "markdown",
   "metadata": {},
   "source": [
    "df['ID'].fillna(df['ID'].mode()[0], inplace=True)\n",
    "df['Value'].fillna(df['Value'].mode()[0], inplace=True)\n",
    "df['Class'].fillna(df['Class'].mode()[0], inplace=True)"
   ]
  },
  {
   "cell_type": "code",
   "execution_count": 18,
   "metadata": {},
   "outputs": [],
   "source": [
    "df['NoMissingcolumn'] = df.isnull().sum(axis=1) # add a new column"
   ]
  },
  {
   "cell_type": "code",
   "execution_count": 19,
   "metadata": {},
   "outputs": [
    {
     "data": {
      "text/html": [
       "<div>\n",
       "<style scoped>\n",
       "    .dataframe tbody tr th:only-of-type {\n",
       "        vertical-align: middle;\n",
       "    }\n",
       "\n",
       "    .dataframe tbody tr th {\n",
       "        vertical-align: top;\n",
       "    }\n",
       "\n",
       "    .dataframe thead th {\n",
       "        text-align: right;\n",
       "    }\n",
       "</style>\n",
       "<table border=\"1\" class=\"dataframe\">\n",
       "  <thead>\n",
       "    <tr style=\"text-align: right;\">\n",
       "      <th></th>\n",
       "      <th>Tag</th>\n",
       "      <th>Type</th>\n",
       "      <th>Placeholder</th>\n",
       "      <th>ID</th>\n",
       "      <th>Value</th>\n",
       "      <th>Class</th>\n",
       "      <th>Classification</th>\n",
       "      <th>NoMissingcolumn</th>\n",
       "    </tr>\n",
       "  </thead>\n",
       "  <tbody>\n",
       "    <tr>\n",
       "      <td>0</td>\n",
       "      <td>input</td>\n",
       "      <td>text</td>\n",
       "      <td>Enter User Name</td>\n",
       "      <td>txtUserName</td>\n",
       "      <td>username</td>\n",
       "      <td>login-control-css</td>\n",
       "      <td>1</td>\n",
       "      <td>0</td>\n",
       "    </tr>\n",
       "    <tr>\n",
       "      <td>1</td>\n",
       "      <td>input</td>\n",
       "      <td>password</td>\n",
       "      <td>Enter the Password</td>\n",
       "      <td>txtPwd</td>\n",
       "      <td>password</td>\n",
       "      <td>login-control-css</td>\n",
       "      <td>1</td>\n",
       "      <td>0</td>\n",
       "    </tr>\n",
       "    <tr>\n",
       "      <td>2</td>\n",
       "      <td>input</td>\n",
       "      <td>submit</td>\n",
       "      <td>a-button-input</td>\n",
       "      <td>btnSubmit</td>\n",
       "      <td>Submit</td>\n",
       "      <td>form-control</td>\n",
       "      <td>1</td>\n",
       "      <td>0</td>\n",
       "    </tr>\n",
       "    <tr>\n",
       "      <td>3</td>\n",
       "      <td>input</td>\n",
       "      <td>button</td>\n",
       "      <td>a-button-input</td>\n",
       "      <td>btnCancel</td>\n",
       "      <td>Cancel</td>\n",
       "      <td>form-control</td>\n",
       "      <td>1</td>\n",
       "      <td>0</td>\n",
       "    </tr>\n",
       "    <tr>\n",
       "      <td>4</td>\n",
       "      <td>input</td>\n",
       "      <td>text</td>\n",
       "      <td>UserName</td>\n",
       "      <td>login</td>\n",
       "      <td>log-in</td>\n",
       "      <td>form-control</td>\n",
       "      <td>1</td>\n",
       "      <td>0</td>\n",
       "    </tr>\n",
       "  </tbody>\n",
       "</table>\n",
       "</div>"
      ],
      "text/plain": [
       "     Tag      Type         Placeholder           ID     Value  \\\n",
       "0  input      text     Enter User Name  txtUserName  username   \n",
       "1  input  password  Enter the Password       txtPwd  password   \n",
       "2  input    submit      a-button-input    btnSubmit    Submit   \n",
       "3  input    button      a-button-input    btnCancel    Cancel   \n",
       "4  input      text            UserName        login    log-in   \n",
       "\n",
       "               Class  Classification  NoMissingcolumn  \n",
       "0  login-control-css               1                0  \n",
       "1  login-control-css               1                0  \n",
       "2       form-control               1                0  \n",
       "3       form-control               1                0  \n",
       "4       form-control               1                0  "
      ]
     },
     "execution_count": 19,
     "metadata": {},
     "output_type": "execute_result"
    }
   ],
   "source": [
    "df.head()"
   ]
  },
  {
   "cell_type": "code",
   "execution_count": 20,
   "metadata": {},
   "outputs": [
    {
     "data": {
      "text/html": [
       "<div>\n",
       "<style scoped>\n",
       "    .dataframe tbody tr th:only-of-type {\n",
       "        vertical-align: middle;\n",
       "    }\n",
       "\n",
       "    .dataframe tbody tr th {\n",
       "        vertical-align: top;\n",
       "    }\n",
       "\n",
       "    .dataframe thead th {\n",
       "        text-align: right;\n",
       "    }\n",
       "</style>\n",
       "<table border=\"1\" class=\"dataframe\">\n",
       "  <thead>\n",
       "    <tr style=\"text-align: right;\">\n",
       "      <th></th>\n",
       "      <th>Tag</th>\n",
       "      <th>Type</th>\n",
       "      <th>Placeholder</th>\n",
       "      <th>ID</th>\n",
       "      <th>Value</th>\n",
       "      <th>Class</th>\n",
       "      <th>Classification</th>\n",
       "      <th>NoMissingcolumn</th>\n",
       "      <th>Missingvalue</th>\n",
       "    </tr>\n",
       "  </thead>\n",
       "  <tbody>\n",
       "    <tr>\n",
       "      <td>1130</td>\n",
       "      <td>input</td>\n",
       "      <td>submit</td>\n",
       "      <td>booking large</td>\n",
       "      <td>Ok</td>\n",
       "      <td>NaN</td>\n",
       "      <td>SearchBtn</td>\n",
       "      <td>1</td>\n",
       "      <td>1</td>\n",
       "      <td>1</td>\n",
       "    </tr>\n",
       "    <tr>\n",
       "      <td>1131</td>\n",
       "      <td>input</td>\n",
       "      <td>text</td>\n",
       "      <td>inputtext _58mg _5dba _2ph-</td>\n",
       "      <td>Sign In</td>\n",
       "      <td>firstname</td>\n",
       "      <td>NaN</td>\n",
       "      <td>0</td>\n",
       "      <td>1</td>\n",
       "      <td>1</td>\n",
       "    </tr>\n",
       "    <tr>\n",
       "      <td>1132</td>\n",
       "      <td>input</td>\n",
       "      <td>email</td>\n",
       "      <td>inputtext</td>\n",
       "      <td>Enter</td>\n",
       "      <td>NaN</td>\n",
       "      <td>email</td>\n",
       "      <td>0</td>\n",
       "      <td>1</td>\n",
       "      <td>1</td>\n",
       "    </tr>\n",
       "    <tr>\n",
       "      <td>1133</td>\n",
       "      <td>input</td>\n",
       "      <td>password</td>\n",
       "      <td>inputtext</td>\n",
       "      <td>Submit</td>\n",
       "      <td>pass</td>\n",
       "      <td>pass</td>\n",
       "      <td>1</td>\n",
       "      <td>0</td>\n",
       "      <td>0</td>\n",
       "    </tr>\n",
       "    <tr>\n",
       "      <td>1134</td>\n",
       "      <td>input</td>\n",
       "      <td>text</td>\n",
       "      <td>inputtext _58mg _5dba _2ph-</td>\n",
       "      <td>Click to Enter</td>\n",
       "      <td>lastname</td>\n",
       "      <td>NaN</td>\n",
       "      <td>0</td>\n",
       "      <td>1</td>\n",
       "      <td>1</td>\n",
       "    </tr>\n",
       "    <tr>\n",
       "      <td>1135</td>\n",
       "      <td>input</td>\n",
       "      <td>text</td>\n",
       "      <td>inputtext _58mg _5dba _2ph-</td>\n",
       "      <td>Click to Login</td>\n",
       "      <td>reg_email__</td>\n",
       "      <td>NaN</td>\n",
       "      <td>0</td>\n",
       "      <td>1</td>\n",
       "      <td>1</td>\n",
       "    </tr>\n",
       "    <tr>\n",
       "      <td>1136</td>\n",
       "      <td>input</td>\n",
       "      <td>password</td>\n",
       "      <td>inputtext _58mg _5dba _2ph-</td>\n",
       "      <td>Click to Sign In</td>\n",
       "      <td>reg_passwd__</td>\n",
       "      <td>NaN</td>\n",
       "      <td>1</td>\n",
       "      <td>1</td>\n",
       "      <td>1</td>\n",
       "    </tr>\n",
       "    <tr>\n",
       "      <td>1137</td>\n",
       "      <td>input</td>\n",
       "      <td>text</td>\n",
       "      <td>_2zrpKA</td>\n",
       "      <td>login</td>\n",
       "      <td>NaN</td>\n",
       "      <td>NaN</td>\n",
       "      <td>0</td>\n",
       "      <td>2</td>\n",
       "      <td>1</td>\n",
       "    </tr>\n",
       "    <tr>\n",
       "      <td>1138</td>\n",
       "      <td>input</td>\n",
       "      <td>password</td>\n",
       "      <td>_2zrpKA _3v41xv</td>\n",
       "      <td>login</td>\n",
       "      <td>NaN</td>\n",
       "      <td>NaN</td>\n",
       "      <td>0</td>\n",
       "      <td>2</td>\n",
       "      <td>1</td>\n",
       "    </tr>\n",
       "    <tr>\n",
       "      <td>1139</td>\n",
       "      <td>input</td>\n",
       "      <td>text</td>\n",
       "      <td>_2zrpKA</td>\n",
       "      <td>login</td>\n",
       "      <td>NaN</td>\n",
       "      <td>NaN</td>\n",
       "      <td>0</td>\n",
       "      <td>2</td>\n",
       "      <td>1</td>\n",
       "    </tr>\n",
       "  </tbody>\n",
       "</table>\n",
       "</div>"
      ],
      "text/plain": [
       "        Tag      Type                  Placeholder                ID  \\\n",
       "1130  input    submit                booking large                Ok   \n",
       "1131  input      text  inputtext _58mg _5dba _2ph-           Sign In   \n",
       "1132  input     email                    inputtext             Enter   \n",
       "1133  input  password                    inputtext            Submit   \n",
       "1134  input      text  inputtext _58mg _5dba _2ph-    Click to Enter   \n",
       "1135  input      text  inputtext _58mg _5dba _2ph-    Click to Login   \n",
       "1136  input  password  inputtext _58mg _5dba _2ph-  Click to Sign In   \n",
       "1137  input      text                      _2zrpKA             login   \n",
       "1138  input  password              _2zrpKA _3v41xv             login   \n",
       "1139  input      text                      _2zrpKA             login   \n",
       "\n",
       "             Value      Class  Classification  NoMissingcolumn  Missingvalue  \n",
       "1130           NaN  SearchBtn               1                1             1  \n",
       "1131     firstname        NaN               0                1             1  \n",
       "1132           NaN      email               0                1             1  \n",
       "1133          pass       pass               1                0             0  \n",
       "1134      lastname        NaN               0                1             1  \n",
       "1135   reg_email__        NaN               0                1             1  \n",
       "1136  reg_passwd__        NaN               1                1             1  \n",
       "1137           NaN        NaN               0                2             1  \n",
       "1138           NaN        NaN               0                2             1  \n",
       "1139           NaN        NaN               0                2             1  "
      ]
     },
     "execution_count": 20,
     "metadata": {},
     "output_type": "execute_result"
    }
   ],
   "source": [
    "df['Missingvalue'] = np.where((df.NoMissingcolumn >= 1), 1, df.NoMissingcolumn)\n",
    "df.tail(10)\n",
    "\n"
   ]
  },
  {
   "cell_type": "markdown",
   "metadata": {},
   "source": [
    "msno.heatmap(df, figsize=(10,10))"
   ]
  },
  {
   "cell_type": "code",
   "execution_count": 21,
   "metadata": {},
   "outputs": [],
   "source": [
    "#pd.get_dummies(data, columns=['Tag'])\n",
    "data=pd.get_dummies(df)"
   ]
  },
  {
   "cell_type": "code",
   "execution_count": 22,
   "metadata": {},
   "outputs": [
    {
     "data": {
      "text/html": [
       "<div>\n",
       "<style scoped>\n",
       "    .dataframe tbody tr th:only-of-type {\n",
       "        vertical-align: middle;\n",
       "    }\n",
       "\n",
       "    .dataframe tbody tr th {\n",
       "        vertical-align: top;\n",
       "    }\n",
       "\n",
       "    .dataframe thead th {\n",
       "        text-align: right;\n",
       "    }\n",
       "</style>\n",
       "<table border=\"1\" class=\"dataframe\">\n",
       "  <thead>\n",
       "    <tr style=\"text-align: right;\">\n",
       "      <th></th>\n",
       "      <th>Classification</th>\n",
       "      <th>NoMissingcolumn</th>\n",
       "      <th>Missingvalue</th>\n",
       "      <th>Tag_a</th>\n",
       "      <th>Tag_button</th>\n",
       "      <th>Tag_div</th>\n",
       "      <th>Tag_input</th>\n",
       "      <th>Type_button</th>\n",
       "      <th>Type_email</th>\n",
       "      <th>Type_password</th>\n",
       "      <th>...</th>\n",
       "      <th>Class_u_0_22</th>\n",
       "      <th>Class_u_0_23</th>\n",
       "      <th>Class_u_0_24</th>\n",
       "      <th>Class_u_0_25</th>\n",
       "      <th>Class_u_0_26</th>\n",
       "      <th>Class_u_0_27</th>\n",
       "      <th>Class_u_0_28</th>\n",
       "      <th>Class_u_0_29</th>\n",
       "      <th>Class_u_0_30</th>\n",
       "      <th>Class_u_0_31</th>\n",
       "    </tr>\n",
       "  </thead>\n",
       "  <tbody>\n",
       "    <tr>\n",
       "      <td>0</td>\n",
       "      <td>1</td>\n",
       "      <td>0</td>\n",
       "      <td>0</td>\n",
       "      <td>0</td>\n",
       "      <td>0</td>\n",
       "      <td>0</td>\n",
       "      <td>1</td>\n",
       "      <td>0</td>\n",
       "      <td>0</td>\n",
       "      <td>0</td>\n",
       "      <td>...</td>\n",
       "      <td>0</td>\n",
       "      <td>0</td>\n",
       "      <td>0</td>\n",
       "      <td>0</td>\n",
       "      <td>0</td>\n",
       "      <td>0</td>\n",
       "      <td>0</td>\n",
       "      <td>0</td>\n",
       "      <td>0</td>\n",
       "      <td>0</td>\n",
       "    </tr>\n",
       "    <tr>\n",
       "      <td>1</td>\n",
       "      <td>1</td>\n",
       "      <td>0</td>\n",
       "      <td>0</td>\n",
       "      <td>0</td>\n",
       "      <td>0</td>\n",
       "      <td>0</td>\n",
       "      <td>1</td>\n",
       "      <td>0</td>\n",
       "      <td>0</td>\n",
       "      <td>1</td>\n",
       "      <td>...</td>\n",
       "      <td>0</td>\n",
       "      <td>0</td>\n",
       "      <td>0</td>\n",
       "      <td>0</td>\n",
       "      <td>0</td>\n",
       "      <td>0</td>\n",
       "      <td>0</td>\n",
       "      <td>0</td>\n",
       "      <td>0</td>\n",
       "      <td>0</td>\n",
       "    </tr>\n",
       "    <tr>\n",
       "      <td>2</td>\n",
       "      <td>1</td>\n",
       "      <td>0</td>\n",
       "      <td>0</td>\n",
       "      <td>0</td>\n",
       "      <td>0</td>\n",
       "      <td>0</td>\n",
       "      <td>1</td>\n",
       "      <td>0</td>\n",
       "      <td>0</td>\n",
       "      <td>0</td>\n",
       "      <td>...</td>\n",
       "      <td>0</td>\n",
       "      <td>0</td>\n",
       "      <td>0</td>\n",
       "      <td>0</td>\n",
       "      <td>0</td>\n",
       "      <td>0</td>\n",
       "      <td>0</td>\n",
       "      <td>0</td>\n",
       "      <td>0</td>\n",
       "      <td>0</td>\n",
       "    </tr>\n",
       "    <tr>\n",
       "      <td>3</td>\n",
       "      <td>1</td>\n",
       "      <td>0</td>\n",
       "      <td>0</td>\n",
       "      <td>0</td>\n",
       "      <td>0</td>\n",
       "      <td>0</td>\n",
       "      <td>1</td>\n",
       "      <td>1</td>\n",
       "      <td>0</td>\n",
       "      <td>0</td>\n",
       "      <td>...</td>\n",
       "      <td>0</td>\n",
       "      <td>0</td>\n",
       "      <td>0</td>\n",
       "      <td>0</td>\n",
       "      <td>0</td>\n",
       "      <td>0</td>\n",
       "      <td>0</td>\n",
       "      <td>0</td>\n",
       "      <td>0</td>\n",
       "      <td>0</td>\n",
       "    </tr>\n",
       "    <tr>\n",
       "      <td>4</td>\n",
       "      <td>1</td>\n",
       "      <td>0</td>\n",
       "      <td>0</td>\n",
       "      <td>0</td>\n",
       "      <td>0</td>\n",
       "      <td>0</td>\n",
       "      <td>1</td>\n",
       "      <td>0</td>\n",
       "      <td>0</td>\n",
       "      <td>0</td>\n",
       "      <td>...</td>\n",
       "      <td>0</td>\n",
       "      <td>0</td>\n",
       "      <td>0</td>\n",
       "      <td>0</td>\n",
       "      <td>0</td>\n",
       "      <td>0</td>\n",
       "      <td>0</td>\n",
       "      <td>0</td>\n",
       "      <td>0</td>\n",
       "      <td>0</td>\n",
       "    </tr>\n",
       "  </tbody>\n",
       "</table>\n",
       "<p>5 rows × 171 columns</p>\n",
       "</div>"
      ],
      "text/plain": [
       "   Classification  NoMissingcolumn  Missingvalue  Tag_a  Tag_button  Tag_div  \\\n",
       "0               1                0             0      0           0        0   \n",
       "1               1                0             0      0           0        0   \n",
       "2               1                0             0      0           0        0   \n",
       "3               1                0             0      0           0        0   \n",
       "4               1                0             0      0           0        0   \n",
       "\n",
       "   Tag_input  Type_button  Type_email  Type_password  ...  Class_u_0_22  \\\n",
       "0          1            0           0              0  ...             0   \n",
       "1          1            0           0              1  ...             0   \n",
       "2          1            0           0              0  ...             0   \n",
       "3          1            1           0              0  ...             0   \n",
       "4          1            0           0              0  ...             0   \n",
       "\n",
       "   Class_u_0_23  Class_u_0_24  Class_u_0_25  Class_u_0_26  Class_u_0_27  \\\n",
       "0             0             0             0             0             0   \n",
       "1             0             0             0             0             0   \n",
       "2             0             0             0             0             0   \n",
       "3             0             0             0             0             0   \n",
       "4             0             0             0             0             0   \n",
       "\n",
       "   Class_u_0_28  Class_u_0_29  Class_u_0_30  Class_u_0_31  \n",
       "0             0             0             0             0  \n",
       "1             0             0             0             0  \n",
       "2             0             0             0             0  \n",
       "3             0             0             0             0  \n",
       "4             0             0             0             0  \n",
       "\n",
       "[5 rows x 171 columns]"
      ]
     },
     "execution_count": 22,
     "metadata": {},
     "output_type": "execute_result"
    }
   ],
   "source": [
    "data.head()"
   ]
  },
  {
   "cell_type": "code",
   "execution_count": 23,
   "metadata": {},
   "outputs": [],
   "source": [
    "x = data.drop(['Classification','NoMissingcolumn','Missingvalue'], axis =1 , inplace = False)\n",
    "y = data ['Classification']\n"
   ]
  },
  {
   "cell_type": "code",
   "execution_count": 24,
   "metadata": {},
   "outputs": [],
   "source": [
    "x_train,x_test,y_train, y_test = train_test_split(x,y, test_size =0.25 ,random_state=42 , stratify =y)"
   ]
  },
  {
   "cell_type": "markdown",
   "metadata": {},
   "source": [
    "# Models"
   ]
  },
  {
   "cell_type": "markdown",
   "metadata": {},
   "source": [
    "# Random Forest Classifier"
   ]
  },
  {
   "cell_type": "code",
   "execution_count": 25,
   "metadata": {},
   "outputs": [],
   "source": [
    "rf = RandomForestClassifier()"
   ]
  },
  {
   "cell_type": "code",
   "execution_count": 26,
   "metadata": {},
   "outputs": [
    {
     "data": {
      "text/plain": [
       "RandomForestClassifier(bootstrap=True, class_weight=None, criterion='gini',\n",
       "                       max_depth=None, max_features='auto', max_leaf_nodes=None,\n",
       "                       min_impurity_decrease=0.0, min_impurity_split=None,\n",
       "                       min_samples_leaf=1, min_samples_split=2,\n",
       "                       min_weight_fraction_leaf=0.0, n_estimators=10,\n",
       "                       n_jobs=None, oob_score=False, random_state=None,\n",
       "                       verbose=0, warm_start=False)"
      ]
     },
     "execution_count": 26,
     "metadata": {},
     "output_type": "execute_result"
    }
   ],
   "source": [
    "rf.fit(x_train, y_train)"
   ]
  },
  {
   "cell_type": "code",
   "execution_count": 27,
   "metadata": {},
   "outputs": [],
   "source": [
    "rf_prediction = rf.predict(x_test)"
   ]
  },
  {
   "cell_type": "code",
   "execution_count": 28,
   "metadata": {},
   "outputs": [
    {
     "data": {
      "text/plain": [
       "0.9157894736842105"
      ]
     },
     "execution_count": 28,
     "metadata": {},
     "output_type": "execute_result"
    }
   ],
   "source": [
    "accuracy_score(rf_prediction, y_test)"
   ]
  },
  {
   "cell_type": "code",
   "execution_count": 29,
   "metadata": {},
   "outputs": [],
   "source": [
    "target_prob_rf = rf.predict_proba(x_test)[:,1]\n",
    "rf_fpr, rf_tpr, rf_thresh = roc_curve(y_test, target_prob_rf)"
   ]
  },
  {
   "cell_type": "markdown",
   "metadata": {},
   "source": [
    "# K-Nearest Neighbor"
   ]
  },
  {
   "cell_type": "code",
   "execution_count": 30,
   "metadata": {},
   "outputs": [],
   "source": [
    "knn_model = KNeighborsClassifier()"
   ]
  },
  {
   "cell_type": "code",
   "execution_count": 31,
   "metadata": {},
   "outputs": [
    {
     "data": {
      "text/plain": [
       "KNeighborsClassifier(algorithm='auto', leaf_size=30, metric='minkowski',\n",
       "                     metric_params=None, n_jobs=None, n_neighbors=5, p=2,\n",
       "                     weights='uniform')"
      ]
     },
     "execution_count": 31,
     "metadata": {},
     "output_type": "execute_result"
    }
   ],
   "source": [
    "knn_model.fit(x_train, y_train)"
   ]
  },
  {
   "cell_type": "code",
   "execution_count": 32,
   "metadata": {},
   "outputs": [],
   "source": [
    "knn_prediction = knn_model.predict(x_test)"
   ]
  },
  {
   "cell_type": "code",
   "execution_count": 33,
   "metadata": {},
   "outputs": [
    {
     "data": {
      "text/plain": [
       "0.9122807017543859"
      ]
     },
     "execution_count": 33,
     "metadata": {},
     "output_type": "execute_result"
    }
   ],
   "source": [
    "accuracy_score(knn_prediction, y_test)"
   ]
  },
  {
   "cell_type": "code",
   "execution_count": 34,
   "metadata": {},
   "outputs": [],
   "source": [
    "target_prob_knn = knn_model.predict_proba(x_test)[:,1]"
   ]
  },
  {
   "cell_type": "code",
   "execution_count": 35,
   "metadata": {},
   "outputs": [],
   "source": [
    "knn_fpr, knn_tpr, knn_thresh = roc_curve(y_test, target_prob_knn)"
   ]
  },
  {
   "cell_type": "markdown",
   "metadata": {},
   "source": [
    "# Logistic Regression"
   ]
  },
  {
   "cell_type": "code",
   "execution_count": 36,
   "metadata": {},
   "outputs": [],
   "source": [
    "log_model = LogisticRegression()"
   ]
  },
  {
   "cell_type": "code",
   "execution_count": 37,
   "metadata": {},
   "outputs": [
    {
     "data": {
      "text/plain": [
       "LogisticRegression(C=1.0, class_weight=None, dual=False, fit_intercept=True,\n",
       "                   intercept_scaling=1, l1_ratio=None, max_iter=100,\n",
       "                   multi_class='warn', n_jobs=None, penalty='l2',\n",
       "                   random_state=None, solver='warn', tol=0.0001, verbose=0,\n",
       "                   warm_start=False)"
      ]
     },
     "execution_count": 37,
     "metadata": {},
     "output_type": "execute_result"
    }
   ],
   "source": [
    "log_model.fit(x_train, y_train)"
   ]
  },
  {
   "cell_type": "code",
   "execution_count": 38,
   "metadata": {},
   "outputs": [],
   "source": [
    "log_prediction = log_model.predict(x_test)"
   ]
  },
  {
   "cell_type": "code",
   "execution_count": 39,
   "metadata": {},
   "outputs": [
    {
     "data": {
      "text/plain": [
       "0.8982456140350877"
      ]
     },
     "execution_count": 39,
     "metadata": {},
     "output_type": "execute_result"
    }
   ],
   "source": [
    "accuracy_score(log_prediction, y_test)"
   ]
  },
  {
   "cell_type": "code",
   "execution_count": 40,
   "metadata": {},
   "outputs": [],
   "source": [
    "target_prob_log = log_model.predict_proba(x_test)[:,1]"
   ]
  },
  {
   "cell_type": "code",
   "execution_count": 41,
   "metadata": {},
   "outputs": [],
   "source": [
    "log_fpr, log_tpr, log_thresh = roc_curve(y_test, target_prob_log)"
   ]
  },
  {
   "cell_type": "markdown",
   "metadata": {},
   "source": [
    "# Naive Bayes"
   ]
  },
  {
   "cell_type": "code",
   "execution_count": 42,
   "metadata": {},
   "outputs": [],
   "source": [
    "gn = GaussianNB()"
   ]
  },
  {
   "cell_type": "code",
   "execution_count": 43,
   "metadata": {},
   "outputs": [],
   "source": [
    "gn_model = gn.fit(x_train, y_train)"
   ]
  },
  {
   "cell_type": "code",
   "execution_count": 44,
   "metadata": {},
   "outputs": [],
   "source": [
    "gn_prediction = gn_model.predict(x_test)"
   ]
  },
  {
   "cell_type": "code",
   "execution_count": 45,
   "metadata": {},
   "outputs": [
    {
     "data": {
      "text/plain": [
       "0.9263157894736842"
      ]
     },
     "execution_count": 45,
     "metadata": {},
     "output_type": "execute_result"
    }
   ],
   "source": [
    "accuracy_score(gn_prediction, y_test)"
   ]
  },
  {
   "cell_type": "code",
   "execution_count": 46,
   "metadata": {},
   "outputs": [],
   "source": [
    "target_prob_gn = gn_model.predict_proba(x_test)[:,1]"
   ]
  },
  {
   "cell_type": "code",
   "execution_count": 47,
   "metadata": {},
   "outputs": [],
   "source": [
    "gn_fpr, gn_tpr, gn_thresh = roc_curve(y_test, target_prob_gn)"
   ]
  },
  {
   "cell_type": "markdown",
   "metadata": {},
   "source": [
    "# XG Boost"
   ]
  },
  {
   "cell_type": "code",
   "execution_count": 48,
   "metadata": {},
   "outputs": [],
   "source": [
    "from xgboost import XGBClassifier\n",
    "from sklearn.model_selection import RandomizedSearchCV"
   ]
  },
  {
   "cell_type": "code",
   "execution_count": 49,
   "metadata": {},
   "outputs": [],
   "source": [
    "gbc = XGBClassifier()"
   ]
  },
  {
   "cell_type": "code",
   "execution_count": 50,
   "metadata": {},
   "outputs": [],
   "source": [
    "param_grid = {'max_depth': [3,10,15,20] , 'min_child_weight': [5,10,15,20], \"learning_rate\": [0.05,0.1,0.2],\n",
    "             'n_estimators':[100,200,300]}\n",
    "\n",
    "gbc = XGBClassifier()\n",
    "gbc_g = RandomizedSearchCV(gbc,param_grid,cv =5,verbose =2 , n_jobs=-1)\n",
    "gbc_model=gbc.fit(x_train, y_train)\n"
   ]
  },
  {
   "cell_type": "code",
   "execution_count": 51,
   "metadata": {},
   "outputs": [],
   "source": [
    "gbc_prediction = gbc_model.predict(x_test)"
   ]
  },
  {
   "cell_type": "code",
   "execution_count": 52,
   "metadata": {},
   "outputs": [
    {
     "data": {
      "text/plain": [
       "0.8596491228070176"
      ]
     },
     "execution_count": 52,
     "metadata": {},
     "output_type": "execute_result"
    }
   ],
   "source": [
    "accuracy_score(gbc_prediction, y_test)"
   ]
  },
  {
   "cell_type": "code",
   "execution_count": 53,
   "metadata": {},
   "outputs": [],
   "source": [
    "target_prob_gbc = gbc_model.predict_proba(x_test)[:,1]"
   ]
  },
  {
   "cell_type": "code",
   "execution_count": 54,
   "metadata": {},
   "outputs": [],
   "source": [
    "gbc_fpr, gbc_tpr, gbc_thresh = roc_curve(y_test, target_prob_gn)"
   ]
  },
  {
   "cell_type": "markdown",
   "metadata": {},
   "source": [
    "# Plot ROC"
   ]
  },
  {
   "cell_type": "code",
   "execution_count": 55,
   "metadata": {},
   "outputs": [],
   "source": [
    "log_auc_score = roc_auc_score(y_test, target_prob_log)\n",
    "gn_auc_score = roc_auc_score(y_test, target_prob_gn)\n",
    "rf_auc_score = roc_auc_score(y_test, target_prob_rf)\n",
    "knn_auc_score = roc_auc_score(y_test, target_prob_knn)\n",
    "gbc_auc_score = roc_auc_score(y_test, target_prob_gbc)"
   ]
  },
  {
   "cell_type": "code",
   "execution_count": 56,
   "metadata": {},
   "outputs": [
    {
     "data": {
      "text/plain": [
       "0.971210922041947"
      ]
     },
     "execution_count": 56,
     "metadata": {},
     "output_type": "execute_result"
    },
    {
     "data": {
      "text/plain": [
       "0.9596111990502572"
      ]
     },
     "execution_count": 56,
     "metadata": {},
     "output_type": "execute_result"
    },
    {
     "data": {
      "text/plain": [
       "0.9488771270280967"
      ]
     },
     "execution_count": 56,
     "metadata": {},
     "output_type": "execute_result"
    },
    {
     "data": {
      "text/plain": [
       "0.9420261179263949"
      ]
     },
     "execution_count": 56,
     "metadata": {},
     "output_type": "execute_result"
    },
    {
     "data": {
      "text/plain": [
       "0.957409972299169"
      ]
     },
     "execution_count": 56,
     "metadata": {},
     "output_type": "execute_result"
    }
   ],
   "source": [
    "log_auc_score \n",
    "gn_auc_score\n",
    "rf_auc_score \n",
    "knn_auc_score\n",
    "gbc_auc_score"
   ]
  },
  {
   "cell_type": "code",
   "execution_count": 57,
   "metadata": {},
   "outputs": [
    {
     "data": {
      "text/plain": [
       "<Figure size 864x576 with 0 Axes>"
      ]
     },
     "execution_count": 57,
     "metadata": {},
     "output_type": "execute_result"
    },
    {
     "data": {
      "text/plain": [
       "Text(0.5, 1.0, 'ROC CURVES')"
      ]
     },
     "execution_count": 57,
     "metadata": {},
     "output_type": "execute_result"
    },
    {
     "data": {
      "text/plain": [
       "[<matplotlib.lines.Line2D at 0x1a6a3f3e148>]"
      ]
     },
     "execution_count": 57,
     "metadata": {},
     "output_type": "execute_result"
    },
    {
     "data": {
      "text/plain": [
       "[<matplotlib.lines.Line2D at 0x1a6a3f46c08>]"
      ]
     },
     "execution_count": 57,
     "metadata": {},
     "output_type": "execute_result"
    },
    {
     "data": {
      "text/plain": [
       "[<matplotlib.lines.Line2D at 0x1a6a3f46c48>]"
      ]
     },
     "execution_count": 57,
     "metadata": {},
     "output_type": "execute_result"
    },
    {
     "data": {
      "text/plain": [
       "[<matplotlib.lines.Line2D at 0x1a6a3f52448>]"
      ]
     },
     "execution_count": 57,
     "metadata": {},
     "output_type": "execute_result"
    },
    {
     "data": {
      "text/plain": [
       "[<matplotlib.lines.Line2D at 0x1a6a3f54c88>]"
      ]
     },
     "execution_count": 57,
     "metadata": {},
     "output_type": "execute_result"
    },
    {
     "data": {
      "text/plain": [
       "[<matplotlib.lines.Line2D at 0x1a6a3f46a88>]"
      ]
     },
     "execution_count": 57,
     "metadata": {},
     "output_type": "execute_result"
    },
    {
     "data": {
      "text/plain": [
       "Text(0, 0.5, 'TRUE POSITIVE RATE')"
      ]
     },
     "execution_count": 57,
     "metadata": {},
     "output_type": "execute_result"
    },
    {
     "data": {
      "text/plain": [
       "Text(0.5, 0, 'FALSE POSITIVE RATE')"
      ]
     },
     "execution_count": 57,
     "metadata": {},
     "output_type": "execute_result"
    },
    {
     "data": {
      "text/plain": [
       "<matplotlib.legend.Legend at 0x1a6a3f5b708>"
      ]
     },
     "execution_count": 57,
     "metadata": {},
     "output_type": "execute_result"
    },
    {
     "data": {
      "image/png": "[encoded data removed]",
      "text/plain": [
       "<Figure size 864x576 with 1 Axes>"
      ]
     },
     "metadata": {},
     "output_type": "display_data"
    }
   ],
   "source": [
    "sns.set_style('whitegrid')\n",
    "plt.figure(figsize=(12, 8))\n",
    "plt.title('ROC CURVES')\n",
    "plt.plot(log_fpr, log_tpr, color='orange', label='Logistic Regression Metric {:.2}'.format(log_auc_score))\n",
    "plt.plot(gn_fpr, gn_tpr, color='red', label='Gaussian Naive Bayes Metric {:.2}'.format(gn_auc_score))\n",
    "plt.plot(rf_fpr, rf_tpr, color='blue', label='Random Forest Classifier Metric {:.2}'.format(rf_auc_score))\n",
    "plt.plot(knn_fpr, knn_tpr, color='pink', label='K-Nearest Neighbor Classifier Metric {:.2}'.format(knn_auc_score))\n",
    "plt.plot(knn_fpr, knn_tpr, color='pink', label='XGBosst ClasifierMetric {:.2}'.format(gbc_auc_score))\n",
    "plt.plot([0, 1], ls='--', color='grey')\n",
    "plt.ylabel('TRUE POSITIVE RATE')\n",
    "plt.xlabel('FALSE POSITIVE RATE')\n",
    "plt.legend()\n",
    "plt.show()"
   ]
  },
  {
   "cell_type": "markdown",
   "metadata": {},
   "source": [
    "# Classification reports"
   ]
  },
  {
   "cell_type": "code",
   "execution_count": 58,
   "metadata": {},
   "outputs": [
    {
     "name": "stdout",
     "output_type": "stream",
     "text": [
      "              precision    recall  f1-score   support\n",
      "\n",
      "           0       0.91      0.87      0.89       133\n",
      "           1       0.89      0.92      0.91       152\n",
      "\n",
      "    accuracy                           0.90       285\n",
      "   macro avg       0.90      0.90      0.90       285\n",
      "weighted avg       0.90      0.90      0.90       285\n",
      "\n"
     ]
    }
   ],
   "source": [
    "print(classification_report(y_test, log_prediction))"
   ]
  },
  {
   "cell_type": "code",
   "execution_count": 59,
   "metadata": {},
   "outputs": [
    {
     "name": "stdout",
     "output_type": "stream",
     "text": [
      "              precision    recall  f1-score   support\n",
      "\n",
      "           0       0.89      0.92      0.91       133\n",
      "           1       0.93      0.90      0.92       152\n",
      "\n",
      "    accuracy                           0.91       285\n",
      "   macro avg       0.91      0.91      0.91       285\n",
      "weighted avg       0.91      0.91      0.91       285\n",
      "\n"
     ]
    }
   ],
   "source": [
    "print(classification_report(y_test, knn_prediction))"
   ]
  },
  {
   "cell_type": "code",
   "execution_count": 60,
   "metadata": {},
   "outputs": [
    {
     "name": "stdout",
     "output_type": "stream",
     "text": [
      "              precision    recall  f1-score   support\n",
      "\n",
      "           0       0.90      0.92      0.91       133\n",
      "           1       0.93      0.91      0.92       152\n",
      "\n",
      "    accuracy                           0.92       285\n",
      "   macro avg       0.92      0.92      0.92       285\n",
      "weighted avg       0.92      0.92      0.92       285\n",
      "\n"
     ]
    }
   ],
   "source": [
    "print(classification_report(y_test, rf_prediction))"
   ]
  },
  {
   "cell_type": "code",
   "execution_count": 61,
   "metadata": {},
   "outputs": [
    {
     "name": "stdout",
     "output_type": "stream",
     "text": [
      "              precision    recall  f1-score   support\n",
      "\n",
      "           0       0.91      0.94      0.92       133\n",
      "           1       0.95      0.91      0.93       152\n",
      "\n",
      "    accuracy                           0.93       285\n",
      "   macro avg       0.93      0.93      0.93       285\n",
      "weighted avg       0.93      0.93      0.93       285\n",
      "\n"
     ]
    }
   ],
   "source": [
    "print(classification_report(y_test, gn_prediction))"
   ]
  },
  {
   "cell_type": "code",
   "execution_count": 62,
   "metadata": {},
   "outputs": [
    {
     "name": "stdout",
     "output_type": "stream",
     "text": [
      "              precision    recall  f1-score   support\n",
      "\n",
      "           0       0.92      0.77      0.84       133\n",
      "           1       0.82      0.94      0.88       152\n",
      "\n",
      "    accuracy                           0.86       285\n",
      "   macro avg       0.87      0.85      0.86       285\n",
      "weighted avg       0.87      0.86      0.86       285\n",
      "\n"
     ]
    }
   ],
   "source": [
    "print(classification_report(y_test, gbc_prediction))"
   ]
  },
  {
   "cell_type": "code",
   "execution_count": 63,
   "metadata": {},
   "outputs": [
    {
     "data": {
      "text/plain": [
       "<Figure size 432x288 with 0 Axes>"
      ]
     },
     "execution_count": 63,
     "metadata": {},
     "output_type": "execute_result"
    },
    {
     "name": "stdout",
     "output_type": "stream",
     "text": [
      "Confusion Matrix\n"
     ]
    },
    {
     "data": {
      "text/plain": [
       "<matplotlib.axes._subplots.AxesSubplot at 0x1a6a3fb7088>"
      ]
     },
     "execution_count": 63,
     "metadata": {},
     "output_type": "execute_result"
    },
    {
     "data": {
      "text/plain": [
       "array([[116,  12],\n",
       "       [ 17, 140]], dtype=int64)"
      ]
     },
     "execution_count": 63,
     "metadata": {},
     "output_type": "execute_result"
    },
    {
     "data": {
      "image/png": "[encoded data removed]",
      "text/plain": [
       "<Figure size 432x288 with 2 Axes>"
      ]
     },
     "metadata": {},
     "output_type": "display_data"
    }
   ],
   "source": [
    "from sklearn import metrics\n",
    "#Confusion Matrix\n",
    "plt.figure(figsize=(6,4))\n",
    "print(\"Confusion Matrix\")\n",
    "cf = metrics.confusion_matrix(log_prediction,y_test)\n",
    "lb1 = ['P1','P2']\n",
    "lb2 = ['T1','T2']\n",
    "sns.heatmap(cf,annot=True, cmap=\"Greens\", xticklabels=lb1 ,yticklabels=lb2)\n",
    "#plt.show()\n",
    "cf"
   ]
  },
  {
   "cell_type": "code",
   "execution_count": 64,
   "metadata": {},
   "outputs": [
    {
     "data": {
      "text/plain": [
       "array([[116,  12],\n",
       "       [ 17, 140]], dtype=int64)"
      ]
     },
     "execution_count": 64,
     "metadata": {},
     "output_type": "execute_result"
    },
    {
     "data": {
      "text/plain": [
       "<matplotlib.axes._subplots.AxesSubplot at 0x1a6a41eefc8>"
      ]
     },
     "execution_count": 64,
     "metadata": {},
     "output_type": "execute_result"
    },
    {
     "data": {
      "text/plain": [
       "Text(34.0, 0.5, 'True label')"
      ]
     },
     "execution_count": 64,
     "metadata": {},
     "output_type": "execute_result"
    },
    {
     "data": {
      "text/plain": [
       "Text(0.5, 16.0, 'Predicted label')"
      ]
     },
     "execution_count": 64,
     "metadata": {},
     "output_type": "execute_result"
    },
    {
     "data": {
      "image/png": "[encoded data removed]",
      "text/plain": [
       "<Figure size 432x288 with 2 Axes>"
      ]
     },
     "metadata": {},
     "output_type": "display_data"
    }
   ],
   "source": [
    "cm = metrics.confusion_matrix(log_prediction,y_test)\n",
    "cm\n",
    "import seaborn as sns\n",
    "#cf = metrics.confusion_matrix(log_prediction,y_test)\n",
    "sns.heatmap(cm, annot=True,  fmt='.2f', xticklabels = [\"No\", \"Yes\"] , yticklabels = [\"No\", \"Yes\"],)\n",
    "plt.ylabel('True label',fontsize=14)\n",
    "plt.xlabel('Predicted label',fontsize=14)"
   ]
  },
  {
   "cell_type": "code",
   "execution_count": 65,
   "metadata": {},
   "outputs": [],
   "source": [
    "cf1 = metrics.confusion_matrix(knn_prediction,y_test)\n",
    "cf2 = metrics.confusion_matrix(rf_prediction,y_test)\n",
    "cf3 = metrics.confusion_matrix(gn_prediction,y_test)\n",
    "cf4 = metrics.confusion_matrix(gbc_prediction,y_test)"
   ]
  },
  {
   "cell_type": "code",
   "execution_count": 66,
   "metadata": {},
   "outputs": [
    {
     "data": {
      "text/plain": [
       "array([[123,  15],\n",
       "       [ 10, 137]], dtype=int64)"
      ]
     },
     "execution_count": 66,
     "metadata": {},
     "output_type": "execute_result"
    },
    {
     "data": {
      "text/plain": [
       "array([[123,  14],\n",
       "       [ 10, 138]], dtype=int64)"
      ]
     },
     "execution_count": 66,
     "metadata": {},
     "output_type": "execute_result"
    },
    {
     "data": {
      "text/plain": [
       "array([[125,  13],\n",
       "       [  8, 139]], dtype=int64)"
      ]
     },
     "execution_count": 66,
     "metadata": {},
     "output_type": "execute_result"
    },
    {
     "data": {
      "text/plain": [
       "array([[102,   9],\n",
       "       [ 31, 143]], dtype=int64)"
      ]
     },
     "execution_count": 66,
     "metadata": {},
     "output_type": "execute_result"
    }
   ],
   "source": [
    "cf1\n",
    "cf2\n",
    "cf3\n",
    "cf4"
   ]
  },
  {
   "cell_type": "code",
   "execution_count": 67,
   "metadata": {},
   "outputs": [
    {
     "data": {
      "text/plain": [
       "array([2.27815754e-03, 1.39392909e-02, 7.86462865e-03, 1.30778578e-02,\n",
       "       1.35224946e-02, 8.39296703e-03, 4.25814394e-02, 8.32315040e-03,\n",
       "       3.61635717e-02, 5.81249753e-02, 7.45734970e-03, 4.08890385e-03,\n",
       "       7.60720741e-03, 9.45710098e-06, 9.16448665e-04, 6.72061476e-04,\n",
       "       1.07367076e-02, 0.00000000e+00, 1.03604473e-02, 2.61247201e-03,\n",
       "       2.10718774e-03, 5.86954924e-03, 2.82005449e-03, 0.00000000e+00,\n",
       "       1.83496553e-04, 7.68082938e-04, 7.10274898e-04, 2.89597533e-03,\n",
       "       4.50451162e-03, 4.43031128e-03, 5.69584820e-02, 3.89364742e-02,\n",
       "       1.37534631e-02, 5.58798044e-03, 3.51664011e-03, 3.61332048e-03,\n",
       "       4.23241572e-03, 6.79882623e-03, 4.63095786e-03, 1.72977027e-03,\n",
       "       1.08613977e-02, 3.72774808e-03, 3.10202312e-03, 4.21594808e-03,\n",
       "       8.68468834e-03, 1.55613064e-02, 6.83157011e-04, 5.13218370e-03,\n",
       "       7.20165836e-03, 1.67043877e-03, 2.93205299e-03, 1.28332461e-02,\n",
       "       3.89305012e-03, 0.00000000e+00, 6.81469251e-03, 2.98669612e-03,\n",
       "       5.90638550e-03, 8.91957774e-03, 3.22484713e-02, 8.38048165e-03,\n",
       "       7.59807427e-03, 1.86786383e-03, 7.72459893e-03, 8.83085755e-03,\n",
       "       2.04350701e-02, 2.37838060e-04, 2.02394336e-04, 4.17278313e-04,\n",
       "       9.55607882e-04, 0.00000000e+00, 4.18529225e-03, 1.27122927e-02,\n",
       "       5.22553712e-05, 2.24612705e-03, 2.94568423e-03, 8.99566905e-03,\n",
       "       0.00000000e+00, 6.17541668e-03, 4.39972357e-03, 0.00000000e+00,\n",
       "       0.00000000e+00, 0.00000000e+00, 0.00000000e+00, 0.00000000e+00,\n",
       "       2.54526717e-04, 0.00000000e+00, 0.00000000e+00, 0.00000000e+00,\n",
       "       0.00000000e+00, 0.00000000e+00, 0.00000000e+00, 0.00000000e+00,\n",
       "       0.00000000e+00, 0.00000000e+00, 0.00000000e+00, 0.00000000e+00,\n",
       "       0.00000000e+00, 7.42180438e-05, 3.09392867e-03, 9.55560549e-03,\n",
       "       9.82100396e-03, 5.36792364e-03, 6.00029632e-03, 2.82037596e-03,\n",
       "       1.99635011e-06, 2.39918029e-03, 3.07549077e-02, 7.77302591e-04,\n",
       "       3.21283460e-04, 2.52863142e-04, 4.18686555e-05, 2.12593950e-02,\n",
       "       2.48104276e-03, 7.31217239e-03, 3.94993115e-03, 1.11955247e-04,\n",
       "       1.08458160e-02, 7.18234698e-03, 1.29023976e-02, 2.06555923e-03,\n",
       "       1.78043568e-02, 7.90563974e-03, 6.63558635e-03, 6.40763340e-04,\n",
       "       9.03549704e-03, 4.20816891e-03, 1.18426265e-03, 6.29269536e-03,\n",
       "       6.25372451e-03, 2.31338776e-03, 3.69541603e-03, 7.73373655e-03,\n",
       "       3.50810380e-03, 6.00220548e-03, 3.73237805e-02, 8.33244499e-03,\n",
       "       1.19407628e-02, 1.64219661e-03, 2.87069475e-03, 1.00051594e-02,\n",
       "       4.30265497e-03, 4.97109984e-03, 1.15862365e-03, 1.96511033e-03,\n",
       "       1.48341410e-03, 3.56546917e-03, 8.93446423e-03, 2.35590613e-03,\n",
       "       1.64039354e-02, 0.00000000e+00, 1.75386755e-03, 0.00000000e+00,\n",
       "       0.00000000e+00, 1.24179636e-03, 5.18315836e-04, 0.00000000e+00,\n",
       "       0.00000000e+00, 1.36019688e-03, 0.00000000e+00, 4.14268641e-04,\n",
       "       0.00000000e+00, 6.42112749e-04, 5.20268127e-04, 1.81022854e-03,\n",
       "       8.00551250e-04, 0.00000000e+00, 8.99499416e-04, 1.40712540e-03])"
      ]
     },
     "execution_count": 67,
     "metadata": {},
     "output_type": "execute_result"
    }
   ],
   "source": [
    "rf.feature_importances_"
   ]
  },
  {
   "cell_type": "code",
   "execution_count": 70,
   "metadata": {},
   "outputs": [
    {
     "data": {
      "text/plain": [
       "array([[ 0.82385578,  0.49441755, -1.81754244, -0.19574434,  1.40093825,\n",
       "        -0.64192707,  2.00931073, -1.07668208,  0.79863593, -0.58178561,\n",
       "        -1.21486355,  0.9278355 ,  1.20860887,  0.32628509,  0.29379232,\n",
       "         0.36786298,  1.11410715,  0.03392229, -0.88325769,  0.83714181,\n",
       "         0.92695821,  0.31628999,  1.10333215,  0.24373002,  0.21839428,\n",
       "         0.29697263,  0.25871171,  0.95092175,  0.45647733,  0.12811767,\n",
       "        -2.22101064, -1.35238659, -2.0737834 , -0.44207218,  0.54732999,\n",
       "         0.6809826 , -0.02188537, -0.0255124 , -0.77882162,  0.6188771 ,\n",
       "         1.34847162, -0.47221455, -0.09153954,  0.43978619, -0.37964687,\n",
       "        -1.80528035,  0.5108971 ,  1.03112883,  0.87030428,  0.20219992,\n",
       "         0.81846378,  0.64736506,  0.8762181 ,  0.13968967, -1.15002197,\n",
       "        -0.1870095 ,  0.51164323, -0.96601076,  0.69073329,  0.03878901,\n",
       "         0.72296522,  0.2793414 ,  0.12730352,  0.30854036,  0.01404067,\n",
       "         0.34033906,  0.11047404,  0.45788561,  0.42890128,  0.        ,\n",
       "        -0.28512016,  1.02347815,  0.11595297,  0.98513457,  1.10384725,\n",
       "         1.07309255,  0.        ,  0.51072057, -0.71274723, -0.01978085,\n",
       "        -0.01978085, -0.02369894, -0.00917262, -0.02369894, -0.04547461,\n",
       "        -0.02369894,  0.        ,  0.        , -0.00917262, -0.02369894,\n",
       "        -0.02369894, -0.02369894,  0.        ,  0.        , -0.05358308,\n",
       "         0.        , -0.03838001,  0.21053468, -0.30614857, -0.69615719,\n",
       "         1.61487099, -0.61995385, -0.79946868, -0.82336141, -0.25757682,\n",
       "        -0.75351148,  1.00995682,  0.41090648, -0.30976471,  0.20200042,\n",
       "         0.22850231,  0.97962519, -0.32318767, -0.29064677, -1.07563078,\n",
       "         0.77920878, -0.77882162,  0.84311546,  1.46692451,  0.55403807,\n",
       "         1.74946143, -0.64048877, -0.9469221 ,  0.41365757, -1.04884759,\n",
       "        -0.98410285,  0.7951101 ,  1.24700265, -0.2638671 , -0.90412145,\n",
       "         0.63772954,  0.92947905,  0.13270821, -1.04146429,  1.47143805,\n",
       "         1.36900683,  0.75410603,  0.99019141,  1.0576782 ,  1.31828707,\n",
       "         1.10240118,  1.02846642,  1.04087199,  1.27490554,  0.37013309,\n",
       "         0.30707797,  0.74325013, -0.32702554,  1.80204917,  0.        ,\n",
       "        -0.51980775,  0.        ,  0.        , -0.5261398 , -0.38338237,\n",
       "         0.        ,  0.        , -0.44357016,  0.        ,  0.41131452,\n",
       "         0.        ,  0.41131452, -0.38338237, -0.38338237, -0.38338237,\n",
       "         0.        ,  0.23590283,  0.29110913]])"
      ]
     },
     "execution_count": 70,
     "metadata": {},
     "output_type": "execute_result"
    }
   ],
   "source": [
    "log_model.coef_"
   ]
  },
  {
   "cell_type": "code",
   "execution_count": 71,
   "metadata": {},
   "outputs": [
    {
     "data": {
      "text/html": [
       "<div>\n",
       "<style scoped>\n",
       "    .dataframe tbody tr th:only-of-type {\n",
       "        vertical-align: middle;\n",
       "    }\n",
       "\n",
       "    .dataframe tbody tr th {\n",
       "        vertical-align: top;\n",
       "    }\n",
       "\n",
       "    .dataframe thead th {\n",
       "        text-align: right;\n",
       "    }\n",
       "</style>\n",
       "<table border=\"1\" class=\"dataframe\">\n",
       "  <thead>\n",
       "    <tr style=\"text-align: right;\">\n",
       "      <th></th>\n",
       "      <th>Variable</th>\n",
       "      <th>Coeff</th>\n",
       "    </tr>\n",
       "  </thead>\n",
       "  <tbody>\n",
       "    <tr>\n",
       "      <td>121</td>\n",
       "      <td>Class_SearchBtn</td>\n",
       "      <td>-0.640489</td>\n",
       "    </tr>\n",
       "    <tr>\n",
       "      <td>122</td>\n",
       "      <td>Class_address-ui-widgets-enterAddressFullName</td>\n",
       "      <td>-0.946922</td>\n",
       "    </tr>\n",
       "    <tr>\n",
       "      <td>123</td>\n",
       "      <td>Class_ap-credential-autofill-hint</td>\n",
       "      <td>0.413658</td>\n",
       "    </tr>\n",
       "    <tr>\n",
       "      <td>124</td>\n",
       "      <td>Class_ap_customer_name</td>\n",
       "      <td>-1.048848</td>\n",
       "    </tr>\n",
       "    <tr>\n",
       "      <td>125</td>\n",
       "      <td>Class_ap_email</td>\n",
       "      <td>-0.984103</td>\n",
       "    </tr>\n",
       "    <tr>\n",
       "      <td>126</td>\n",
       "      <td>Class_ap_password</td>\n",
       "      <td>0.795110</td>\n",
       "    </tr>\n",
       "    <tr>\n",
       "      <td>127</td>\n",
       "      <td>Class_btn btn-primary btn-lg pull-right</td>\n",
       "      <td>1.247003</td>\n",
       "    </tr>\n",
       "    <tr>\n",
       "      <td>128</td>\n",
       "      <td>Class_continue</td>\n",
       "      <td>-0.263867</td>\n",
       "    </tr>\n",
       "    <tr>\n",
       "      <td>129</td>\n",
       "      <td>Class_copyReferCode</td>\n",
       "      <td>-0.904121</td>\n",
       "    </tr>\n",
       "    <tr>\n",
       "      <td>130</td>\n",
       "      <td>Class_createAccountSubmit</td>\n",
       "      <td>0.637730</td>\n",
       "    </tr>\n",
       "  </tbody>\n",
       "</table>\n",
       "</div>"
      ],
      "text/plain": [
       "                                          Variable     Coeff\n",
       "121                                Class_SearchBtn -0.640489\n",
       "122  Class_address-ui-widgets-enterAddressFullName -0.946922\n",
       "123              Class_ap-credential-autofill-hint  0.413658\n",
       "124                         Class_ap_customer_name -1.048848\n",
       "125                                 Class_ap_email -0.984103\n",
       "126                              Class_ap_password  0.795110\n",
       "127        Class_btn btn-primary btn-lg pull-right  1.247003\n",
       "128                                 Class_continue -0.263867\n",
       "129                            Class_copyReferCode -0.904121\n",
       "130                      Class_createAccountSubmit  0.637730"
      ]
     },
     "execution_count": 71,
     "metadata": {},
     "output_type": "execute_result"
    }
   ],
   "source": [
    "coeff=pd.concat([pd.DataFrame(x.columns),pd.DataFrame(np.transpose(log_model.coef_))], axis =1)\n",
    "coeff.columns = ('Variable','Coeff')\n",
    "values= coeff.sort_values('Variable',ascending =True)\n",
    "values.head(10)"
   ]
  },
  {
   "cell_type": "code",
   "execution_count": 72,
   "metadata": {},
   "outputs": [
    {
     "data": {
      "text/plain": [
       "['model.pkl']"
      ]
     },
     "execution_count": 72,
     "metadata": {},
     "output_type": "execute_result"
    }
   ],
   "source": [
    "from sklearn.externals import joblib\n",
    "joblib.dump(log_model, 'model.pkl')"
   ]
  },
  {
   "cell_type": "code",
   "execution_count": 73,
   "metadata": {},
   "outputs": [
    {
     "data": {
      "text/plain": [
       "['model_columns.pkl']"
      ]
     },
     "execution_count": 73,
     "metadata": {},
     "output_type": "execute_result"
    }
   ],
   "source": [
    "model_columns = list(x.columns)\n",
    "joblib.dump(model_columns, 'model_columns.pkl')"
   ]
  },
  {
   "cell_type": "code",
   "execution_count": null,
   "metadata": {},
   "outputs": [],
   "source": []
  }
 ],
 "metadata": {
  "kernelspec": {
   "display_name": "Python 3",
   "language": "python",
   "name": "python3"
  },
  "language_info": {
   "codemirror_mode": {
    "name": "ipython",
    "version": 3
   },
   "file_extension": ".py",
   "mimetype": "text/x-python",
   "name": "python",
   "nbconvert_exporter": "python",
   "pygments_lexer": "ipython3",
   "version": "3.7.4"
  }
 },
 "nbformat": 4,
 "nbformat_minor": 2
}
